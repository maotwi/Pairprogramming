{
 "cells": [
  {
   "cell_type": "markdown",
   "metadata": {
    "deletable": false,
    "editable": false,
    "nbgrader": {
     "cell_type": "markdown",
     "checksum": "b9ce270d6d3b308a0a4803f8cc03638f",
     "grade": false,
     "grade_id": "cell-14bc8bc2e3f3b50b",
     "locked": true,
     "schema_version": 3,
     "solution": false
    },
    "run_control": {
     "frozen": true
    }
   },
   "source": [
    "---\n",
    "Stellen Sie bitte sicher, dass alles wie vorhergesehen läuft, bevor Sie dieses Übungsblatt abgeben. **Starten Sie den Kernel neu** (in der Menüleiste die Option Kernel$\\rightarrow$Restart auswählen) und **validieren** Sie anschließend das Übungsblatt (in der Menüleiste auf Validate klicken) um Rückmeldung zu eventuellen fehlenden oder fehlerhaften Eingaben zu erhalten. \n",
    "\n",
    "Füllen Sie alle Stellen im Übungsblatt aus, welche entweder `DEIN CODE HIER` oder \"DEINE ANTWORT HIER\" enthalten. Geben Sie unterhalb Ihren vollständigen Namen an.\n",
    "\n",
    "Wenn Sie Code-Bestandteile aus anderen Quellen (wie z.B. Stackoverflow) kopieren, dann machen sie den kopierten Code in ihrer Quellcodedatei kenntlich und fügen eine Referenz auf die Quelle als Kommentar hinzu.\n",
    "\n",
    "Wenn Sie die Aufgaben in einer Gruppe erledigen, dann fügen Sie die Namen aller Gruppenmitglieder in der nachfolgende Zelle zu `Name` und zusätzlich als Kommentar am Anfang Ihrer Quellcodedatei hinzu."
   ]
  },
  {
   "cell_type": "markdown",
   "metadata": {
    "deletable": false,
    "editable": false,
    "nbgrader": {
     "cell_type": "markdown",
     "checksum": "008460e9429099ecfb93dcd32bf095e8",
     "grade": false,
     "grade_id": "cell-8ae8fd1bec813ca4",
     "locked": true,
     "schema_version": 3,
     "solution": false
    },
    "run_control": {
     "frozen": true
    }
   },
   "source": [
    "---"
   ]
  },
  {
   "cell_type": "code",
   "execution_count": null,
   "metadata": {},
   "outputs": [],
   "source": [
    "NAME = \"\""
   ]
  },
  {
   "cell_type": "markdown",
   "metadata": {
    "deletable": false,
    "editable": false,
    "nbgrader": {
     "cell_type": "markdown",
     "checksum": "c192b9832dd6a90237eec99f9da76301",
     "grade": false,
     "grade_id": "cell-4f279d8aadb7cf1a",
     "locked": true,
     "schema_version": 3,
     "solution": false
    },
    "run_control": {
     "frozen": true
    }
   },
   "source": [
    "---"
   ]
  },
  {
   "cell_type": "markdown",
   "metadata": {
    "deletable": false,
    "editable": false,
    "nbgrader": {
     "cell_type": "markdown",
     "checksum": "c7e9e20b74b68cd65f02021151326f97",
     "grade": false,
     "grade_id": "cell-79ac5ebd021c2183",
     "locked": true,
     "schema_version": 3,
     "solution": false
    },
    "run_control": {
     "frozen": true
    }
   },
   "source": [
    "<table style=\"width: 100%\">\n",
    "    <tr style=\"background: #ffffff\">\n",
    "        <td style=\"width: 240px\"><img src=\"https://mci.edu/templates/mci/images/logo.svg\" alt=\"Logo\"></td>\n",
    "        <td style=\"width: 100%\">\n",
    "            <div style=\"text-align:right; width: 100%; text-align:right\"><font size=\"7\"><b>Programmiertechnik</b></font></div>\n",
    "            <div style=\"padding-top:20px; width: 100%; text-align:right\"><font size=\"5\"><b>WS 2022/23</b></font></div>\n",
    "        </td>\n",
    "    </tr>\n",
    "</table>"
   ]
  },
  {
   "cell_type": "markdown",
   "metadata": {
    "deletable": false,
    "editable": false,
    "nbgrader": {
     "cell_type": "markdown",
     "checksum": "c84a19e6c2165957903487a23e226bfb",
     "grade": false,
     "grade_id": "cell-566ee885e93f0626",
     "locked": true,
     "schema_version": 3,
     "solution": false
    },
    "run_control": {
     "frozen": true
    }
   },
   "source": [
    "---\n",
    "# Übungsblatt 5"
   ]
  },
  {
   "cell_type": "markdown",
   "metadata": {
    "deletable": false,
    "editable": false,
    "hide_input": false,
    "nbgrader": {
     "cell_type": "markdown",
     "checksum": "358c7aeb764016e50181d3d6e3c1f4de",
     "grade": false,
     "grade_id": "cell-95318d4fa4abcc1c",
     "locked": true,
     "schema_version": 3,
     "solution": false,
     "task": false
    },
    "run_control": {
     "frozen": true
    }
   },
   "source": [
    "---\n",
    "Abgabe bis <b>Sonntag, 20. November 2022, 23:55 Uhr</b>"
   ]
  },
  {
   "cell_type": "code",
   "execution_count": null,
   "metadata": {
    "deletable": false,
    "editable": false,
    "hide_input": true,
    "nbgrader": {
     "cell_type": "code",
     "checksum": "b0bf9da1d0c9c4aa154e40f9cc0dfd7a",
     "grade": true,
     "grade_id": "cell-c1d2660334678ed7",
     "locked": true,
     "points": 0,
     "schema_version": 3,
     "solution": false,
     "task": false
    },
    "run_control": {
     "frozen": true
    }
   },
   "outputs": [],
   "source": [
    "import jagl\n",
    "import os\n",
    "import re\n",
    "import types\n",
    "import sys"
   ]
  },
  {
   "cell_type": "markdown",
   "metadata": {
    "deletable": false,
    "editable": false,
    "nbgrader": {
     "cell_type": "markdown",
     "checksum": "4e740a174644873d7f2d11cde36ffd6f",
     "grade": false,
     "grade_id": "cell-60e35d958528aa2d",
     "locked": true,
     "schema_version": 3,
     "solution": false
    },
    "run_control": {
     "frozen": true
    }
   },
   "source": [
    "---\n",
    "### Achtung:\n",
    "\n",
    "*Bitte verwenden Sie für dieses Übungsblatt nur Funktionen und Datenstrukturen, die im Rahmen dieser Lehrveranstaltung (Notebook-Sheets \"Strukturierte Programmierung mit Python\" und \"Datentypen in Python\") besprochen wurden, es sei denn es wird explizit anders angegeben.*"
   ]
  },
  {
   "cell_type": "markdown",
   "metadata": {
    "deletable": false,
    "editable": false,
    "nbgrader": {
     "cell_type": "markdown",
     "checksum": "8ae6eb7a9127f642d57bd2ad2a1522cd",
     "grade": false,
     "grade_id": "cell-46c9834019c69298",
     "locked": true,
     "schema_version": 3,
     "solution": false
    },
    "run_control": {
     "frozen": true
    }
   },
   "source": [
    "---\n",
    "## 5.1 Suchen (14%)\n",
    "\n",
    "Implementieren sie eine Funktion, welche ein Integer-Array und einen Integer als Parameter übergeben bekommt, dieses Array dann nach dem übergebenen Integer durchsucht und im Falle eines Erfolgs den Index des gesuchten Integers im Array zurückgibt. Falls der Integer nicht gefunden wird, so soll `None` zurückgegeben werden. Falls der gesuchte Integer mehr als einmal im Array zu finden ist, dann soll der Index des ersten Auftretens zurückgegeben werden."
   ]
  },
  {
   "cell_type": "code",
   "execution_count": null,
   "metadata": {
    "deletable": false,
    "editable": false,
    "hide_input": true,
    "nbgrader": {
     "cell_type": "code",
     "checksum": "7b3077937be3acaf784eeb0aba164d30",
     "grade": true,
     "grade_id": "cell-50797d9195388400",
     "locked": true,
     "points": 0,
     "schema_version": 3,
     "solution": false,
     "task": false
    },
    "run_control": {
     "frozen": true
    }
   },
   "outputs": [],
   "source": [
    "# new test suite\n",
    "jagl.testsuite_begin(\"Exercise 1\")"
   ]
  },
  {
   "cell_type": "code",
   "execution_count": null,
   "metadata": {
    "nbgrader": {
     "cell_type": "code",
     "checksum": "1a50ffe12b0eb4bd0de07cf04adbd75e",
     "grade": false,
     "grade_id": "cell-f1718efc6956734e",
     "locked": false,
     "schema_version": 3,
     "solution": true
    }
   },
   "outputs": [],
   "source": [
    "# Schreiben Sie Ihren Code in die untenstehende Funktion. Verändern Sie dabei nichts am bereits vorhandenen Code.\n",
    "# Das Array das untersucht werden soll, wird an die untenstehende Funktion als Variable \"array\" übergeben.\n",
    "# Der Integer nach dem gesucht werden soll, wird an die untenstehende Funktion als Variable \"x\" übergeben.\n",
    "# Die Funktion soll den Index der gesuchten Zahl zurückgeben, oder \"None\" falls diese nicht gefunden werden konnte.\n",
    "\n",
    "def search_array(array, x):    \n",
    "    \n",
    "    for i in range(len(array)): \n",
    "        \n",
    "        if array[i] == x:\n",
    "            return i\n",
    "        \n",
    "    return None\n",
    "    "
   ]
  },
  {
   "cell_type": "code",
   "execution_count": null,
   "metadata": {
    "nbgrader": {
     "cell_type": "code",
     "checksum": "e60f9c7bc2efef4d5c6bb89a818f537c",
     "grade": false,
     "grade_id": "cell-ac32b502040be2dd",
     "locked": false,
     "schema_version": 3,
     "solution": true,
     "task": false
    }
   },
   "outputs": [],
   "source": [
    "# Weisen Sie der untenstehenden Variable den Wert True zu, sobald Sie die Aufgabe erfolgreich erledigt haben!\n",
    "\n",
    "# Datentyp: bool\n",
    "exercise_5_1_solved = True"
   ]
  },
  {
   "cell_type": "code",
   "execution_count": null,
   "metadata": {},
   "outputs": [],
   "source": [
    "# Benutzen Sie diesen Funktionsaufruf um Ihr Ergebnis zu testen.\n",
    "# Damit diese Zelle ausgeführt werden kann, führen Sie zuerst die Zelle mit der entsprechenden Funktion aus.\n",
    "# Damit Sie den Wert None in der Ausgabe sehen können, müssen Sie den Rückgabewert mit print() ausgeben.\n",
    "\n",
    "print(search_array([1,2,3,3, 4,5 ,3 ], 3))"
   ]
  },
  {
   "cell_type": "code",
   "execution_count": null,
   "metadata": {
    "deletable": false,
    "editable": false,
    "hide_input": true,
    "nbgrader": {
     "cell_type": "code",
     "checksum": "1abd11f996e903fd7c81d05bf3ea3cdc",
     "grade": true,
     "grade_id": "cell-937c8142d9bdbf6b",
     "locked": true,
     "points": 14,
     "schema_version": 3,
     "solution": false
    },
    "run_control": {
     "frozen": true
    }
   },
   "outputs": [],
   "source": [
    "@jagl.testcase(\"1\", desc=\"Exercise Solved\")\n",
    "def testcase_1_1(result, suite, case):\n",
    "    varname = \"exercise_5_1_solved\"\n",
    "    result.setSucceeded()\n",
    "    jagl.check_variable_exists_and_has_type(result, globals(), varname, bool)\n",
    "    if result.isSucceeded():\n",
    "        if eval(varname):\n",
    "            result.setSucceeded(\"Exercise solved.\")\n",
    "        else:\n",
    "            result.setFailed(\"Exercise not solved.\")"
   ]
  },
  {
   "cell_type": "code",
   "execution_count": null,
   "metadata": {
    "deletable": false,
    "editable": false,
    "hide_input": true,
    "nbgrader": {
     "cell_type": "code",
     "checksum": "12fa743df2183c01f9a0f420156d0250",
     "grade": true,
     "grade_id": "cell-8fa1d0876c4322b7",
     "locked": true,
     "points": 0,
     "schema_version": 3,
     "solution": false
    },
    "run_control": {
     "frozen": true
    }
   },
   "outputs": [],
   "source": [
    "@jagl.testcase(\"2\", desc=\"Check Function search_array()\", deps=[\"1\"])\n",
    "def testcase_1_2(result, suite, case):\n",
    "    jagl.check_variable_exists_and_has_type(result, globals(), \"search_array\", types.FunctionType)\n",
    "    if result.isSucceeded():\n",
    "        def _search_array_(array, n):\n",
    "            for i in range(len(array)):\n",
    "                if array[i] == n:\n",
    "                    return i\n",
    "            return None\n",
    "        for x in [[[1, 2, 3, 4, 3, 2, 4, 8, 9, 4], 4], [[123, 54, 1234, 878, 234], 2], [[23, 54, 42, 43], 43], [[10, 2, 3, 4], 10]]:\n",
    "            res1 = search_array(*x)\n",
    "            truth = _search_array_(*x)\n",
    "            if not isinstance(res1, type(truth)):\n",
    "                result.setFailed(f\"Return value of search_array({x}) has the wrong type ({type(res1)} instead of {type(truth)})\")\n",
    "            elif res1 == truth:\n",
    "                result.setSucceeded(f\"search_array({x}) returns the correct value\")\n",
    "            else:\n",
    "                result.setFailed(f\"search_array({x}) returns the wrong value ({res1} instead of {truth})\")"
   ]
  },
  {
   "cell_type": "code",
   "execution_count": null,
   "metadata": {
    "deletable": false,
    "editable": false,
    "hide_input": true,
    "nbgrader": {
     "cell_type": "code",
     "checksum": "83acfe5ca685fcce18525861a14beccc",
     "grade": true,
     "grade_id": "cell-ef7f19d96b85b816",
     "locked": true,
     "points": 0,
     "schema_version": 3,
     "solution": false
    },
    "run_control": {
     "frozen": true
    }
   },
   "outputs": [],
   "source": []
  },
  {
   "cell_type": "code",
   "execution_count": null,
   "metadata": {
    "deletable": false,
    "editable": false,
    "hide_input": true,
    "nbgrader": {
     "cell_type": "code",
     "checksum": "f6c4839fa3772c1c49d558cb284c3591",
     "grade": true,
     "grade_id": "cell-6abb829eb7ff6195",
     "locked": true,
     "points": 0,
     "schema_version": 3,
     "solution": false
    },
    "run_control": {
     "frozen": true
    }
   },
   "outputs": [],
   "source": []
  },
  {
   "cell_type": "code",
   "execution_count": null,
   "metadata": {
    "deletable": false,
    "editable": false,
    "hide_input": true,
    "nbgrader": {
     "cell_type": "code",
     "checksum": "ac8dc73e9eae343a58f7decc084fefa7",
     "grade": true,
     "grade_id": "cell-4ea987798d13e25f",
     "locked": true,
     "points": 0,
     "schema_version": 3,
     "solution": false
    },
    "run_control": {
     "frozen": true
    }
   },
   "outputs": [],
   "source": []
  },
  {
   "cell_type": "code",
   "execution_count": null,
   "metadata": {
    "deletable": false,
    "editable": false,
    "hide_input": true,
    "nbgrader": {
     "cell_type": "code",
     "checksum": "e2916335988e588b00fc537583919260",
     "grade": true,
     "grade_id": "cell-c316bceb3872e88c",
     "locked": true,
     "points": 0,
     "schema_version": 3,
     "solution": false
    },
    "run_control": {
     "frozen": true
    }
   },
   "outputs": [],
   "source": []
  },
  {
   "cell_type": "code",
   "execution_count": null,
   "metadata": {
    "deletable": false,
    "editable": false,
    "hide_input": true,
    "nbgrader": {
     "cell_type": "code",
     "checksum": "387934549ae7768f8961d1188d3744b7",
     "grade": true,
     "grade_id": "cell-9770deeb4248d721",
     "locked": true,
     "points": 0,
     "schema_version": 3,
     "solution": false
    },
    "run_control": {
     "frozen": true
    }
   },
   "outputs": [],
   "source": []
  },
  {
   "cell_type": "markdown",
   "metadata": {
    "deletable": false,
    "editable": false,
    "nbgrader": {
     "cell_type": "markdown",
     "checksum": "355830d075c29e08b43d339c9a510271",
     "grade": false,
     "grade_id": "cell-f2a38aa5085b761f",
     "locked": true,
     "schema_version": 3,
     "solution": false
    },
    "run_control": {
     "frozen": true
    }
   },
   "source": [
    "---\n",
    "## 5.2 Sortieren (14%)\n",
    "\n",
    "Implementieren sie eine Funktion, welche ein unsortiertes Integer-Array als Parameter übergeben bekommt, dieses dann sortiert und wieder zurückgibt. Verwenden Sie dazu den Sortieralgorithmus [\"**Selectionsort**\"](https://de.wikipedia.org/wiki/Selectionsort). Wird `True` als zweiter Parameter an die Funktion übergeben, dann soll das Array aufsteigend sortiert werden, wird `False` übergeben, dann absteigend.\n",
    "\n",
    "*Hinweis*: Selectionsort lässt sich am einfachsten implementieren, wenn Sie mit zwei getrennten Arrays S und U (gleiche Notation wie im verlinkten Wikipedia-Artikel) arbeiten. Dann brauchen Sie auch keine Vertausche-Funktion."
   ]
  },
  {
   "cell_type": "code",
   "execution_count": null,
   "metadata": {
    "deletable": false,
    "editable": false,
    "hide_input": true,
    "nbgrader": {
     "cell_type": "code",
     "checksum": "2effb2544e2156f574d2043c18368411",
     "grade": true,
     "grade_id": "cell-7bc491dcab05b038",
     "locked": true,
     "points": 0,
     "schema_version": 3,
     "solution": false,
     "task": false
    },
    "run_control": {
     "frozen": true
    }
   },
   "outputs": [],
   "source": [
    "# new test suite\n",
    "jagl.testsuite_begin(\"Exercise 2\")"
   ]
  },
  {
   "cell_type": "code",
   "execution_count": null,
   "metadata": {
    "nbgrader": {
     "cell_type": "code",
     "checksum": "2d46599c41a2b9244db81859354da36b",
     "grade": false,
     "grade_id": "cell-3db26d55797a924a",
     "locked": false,
     "schema_version": 3,
     "solution": true
    },
    "pixiedust": {
     "displayParams": {}
    }
   },
   "outputs": [],
   "source": [
    "# Schreiben Sie Ihren Code in die untenstehende Funktion. Verändern Sie dabei nichts am bereits vorhandenen Code.\n",
    "# Das Array das sortiert werden soll, wird an die untenstehende Funktion als Variable \"array\" übergeben.\n",
    "# Besitzt der Parameter \"asc\" den Wahrheitswert \"True\", dann soll ein aufsteigend sortiertes Array zurückgegeben werden.\n",
    "# Besitzt der Parameter \"asc\" den Wahrheitswert \"False\", dann soll ein absteigend sortiertes Array zurückgegeben werden.\n",
    "# Die Funktion soll das sortierte Array zurückgeben.\n",
    "\n",
    "def selection_sort(array, asc):  \n",
    "    \n",
    "    for i in range(len(array)-1):\n",
    "        temp = array[i]\n",
    "        idx = i\n",
    "        for j in range(i+1,len(array)):\n",
    "            if temp>array[j]:\n",
    "                temp = array[j]\n",
    "                idx = j\n",
    "        array[idx] = array[i]\n",
    "        array[i] = temp\n",
    "    \n",
    "    if asc == False:\n",
    "        return array[::-1]\n",
    "    \n",
    "    return array\n",
    "\n",
    "            \n",
    "            \n",
    "    "
   ]
  },
  {
   "cell_type": "code",
   "execution_count": null,
   "metadata": {
    "nbgrader": {
     "cell_type": "code",
     "checksum": "b5aecffb975e2ecc260e7d4e054fd538",
     "grade": false,
     "grade_id": "cell-5fe7a96019a544be",
     "locked": false,
     "schema_version": 3,
     "solution": true,
     "task": false
    }
   },
   "outputs": [],
   "source": [
    "# Weisen Sie der untenstehenden Variable den Wert True zu, sobald Sie die Aufgabe erfolgreich erledigt haben!\n",
    "\n",
    "# Datentyp: bool\n",
    "exercise_5_2_solved = True"
   ]
  },
  {
   "cell_type": "code",
   "execution_count": null,
   "metadata": {},
   "outputs": [],
   "source": [
    "# Benutzen Sie diesen Funktionsaufruf um Ihr Ergebnis zu testen.\n",
    "# Damit diese Zelle ausgeführt werden kann, führen Sie zuerst die Zelle mit der entsprechenden Funktion aus.\n",
    "\n",
    "selection_sort([2,4,6,5,3,1], True)"
   ]
  },
  {
   "cell_type": "code",
   "execution_count": null,
   "metadata": {
    "deletable": false,
    "editable": false,
    "hide_input": true,
    "nbgrader": {
     "cell_type": "code",
     "checksum": "bfc755ebb270b77ac130d9909cbc0d9c",
     "grade": true,
     "grade_id": "cell-fe687ce8d1884c78",
     "locked": true,
     "points": 14,
     "schema_version": 3,
     "solution": false
    },
    "run_control": {
     "frozen": true
    }
   },
   "outputs": [],
   "source": [
    "@jagl.testcase(\"1\", desc=\"Exercise Solved\")\n",
    "def testcase_2_1(result, suite, case):\n",
    "    varname = \"exercise_5_2_solved\"\n",
    "    result.setSucceeded()\n",
    "    jagl.check_variable_exists_and_has_type(result, globals(), varname, bool)\n",
    "    if result.isSucceeded():\n",
    "        if eval(varname):\n",
    "            result.setSucceeded(\"Exercise solved.\")\n",
    "        else:\n",
    "            result.setFailed(\"Exercise not solved.\")"
   ]
  },
  {
   "cell_type": "code",
   "execution_count": null,
   "metadata": {
    "deletable": false,
    "editable": false,
    "hide_input": true,
    "nbgrader": {
     "cell_type": "code",
     "checksum": "08a6441890d606b92b3afe314f49ddcd",
     "grade": true,
     "grade_id": "cell-b7be02d31766d7be",
     "locked": true,
     "points": 0,
     "schema_version": 3,
     "solution": false
    },
    "run_control": {
     "frozen": true
    }
   },
   "outputs": [],
   "source": [
    "@jagl.testcase(\"2\", desc=\"Check Function selection_sort()\", deps=[\"1\"])\n",
    "def testcase_2_2(result, suite, case):\n",
    "    jagl.check_variable_exists_and_has_type(result, globals(), \"selection_sort\", types.FunctionType)\n",
    "    if result.isSucceeded():\n",
    "        def _selection_sort_(array, asc):\n",
    "            array.sort(reverse=not asc)\n",
    "            return array\n",
    "        for x in [[[1, 2, 3, 4, 3, 2, 4, 8, 9, 4], True], [[123, 54, 1234, 878, 234], False], [[23, 54, 42, 43], True], [[10, 2, 3, 4], False]]:\n",
    "            l1 = list(x[0])\n",
    "            l2 = list(x[0])\n",
    "            res1 = selection_sort(l1, x[1])\n",
    "            truth = _selection_sort_(l2, x[1])\n",
    "            if not isinstance(res1, type(truth)):\n",
    "                result.setFailed(f\"Return value of selection_sort({x}) has the wrong type ({type(res1)} instead of {type(truth)})\")\n",
    "            elif res1 == truth:\n",
    "                result.setSucceeded(f\"selection_sort({x}) returns the correct value\")\n",
    "            else:\n",
    "                result.setFailed(f\"selection_sort({x}) returns the wrong value ({res1} instead of {truth})\")"
   ]
  },
  {
   "cell_type": "code",
   "execution_count": null,
   "metadata": {
    "deletable": false,
    "editable": false,
    "hide_input": true,
    "nbgrader": {
     "cell_type": "code",
     "checksum": "3721e41fd5d2104c9c2a5cea6fdd647f",
     "grade": true,
     "grade_id": "cell-836c19a39bda1f84",
     "locked": true,
     "points": 0,
     "schema_version": 3,
     "solution": false
    },
    "run_control": {
     "frozen": true
    }
   },
   "outputs": [],
   "source": []
  },
  {
   "cell_type": "code",
   "execution_count": null,
   "metadata": {
    "deletable": false,
    "editable": false,
    "hide_input": true,
    "nbgrader": {
     "cell_type": "code",
     "checksum": "41fd9f7c1fc11b4a560e3bbb022b1613",
     "grade": true,
     "grade_id": "cell-fb5f2a95607c93f8",
     "locked": true,
     "points": 0,
     "schema_version": 3,
     "solution": false
    },
    "run_control": {
     "frozen": true
    }
   },
   "outputs": [],
   "source": []
  },
  {
   "cell_type": "code",
   "execution_count": null,
   "metadata": {
    "deletable": false,
    "editable": false,
    "hide_input": true,
    "nbgrader": {
     "cell_type": "code",
     "checksum": "b769acf34af3bbe528ac49b4ba0b79eb",
     "grade": true,
     "grade_id": "cell-3017f4b6a4cc663e",
     "locked": true,
     "points": 0,
     "schema_version": 3,
     "solution": false
    },
    "run_control": {
     "frozen": true
    }
   },
   "outputs": [],
   "source": []
  },
  {
   "cell_type": "code",
   "execution_count": null,
   "metadata": {
    "deletable": false,
    "editable": false,
    "hide_input": true,
    "nbgrader": {
     "cell_type": "code",
     "checksum": "c5c3ba139e8aa7166f45fe0cf2a4ae21",
     "grade": true,
     "grade_id": "cell-7d2a085955143eac",
     "locked": true,
     "points": 0,
     "schema_version": 3,
     "solution": false
    },
    "run_control": {
     "frozen": true
    }
   },
   "outputs": [],
   "source": []
  },
  {
   "cell_type": "code",
   "execution_count": null,
   "metadata": {
    "deletable": false,
    "editable": false,
    "hide_input": true,
    "nbgrader": {
     "cell_type": "code",
     "checksum": "597d35d3d6a50bbb9c7e924ae831204b",
     "grade": true,
     "grade_id": "cell-a8f80a82794c7ce4",
     "locked": true,
     "points": 0,
     "schema_version": 3,
     "solution": false
    },
    "run_control": {
     "frozen": true
    }
   },
   "outputs": [],
   "source": []
  },
  {
   "cell_type": "markdown",
   "metadata": {
    "deletable": false,
    "editable": false,
    "nbgrader": {
     "cell_type": "markdown",
     "checksum": "777c0189dc95c4952c7bae2610327442",
     "grade": false,
     "grade_id": "cell-c6ea26e1ec03920e",
     "locked": true,
     "schema_version": 3,
     "solution": false
    },
    "run_control": {
     "frozen": true
    }
   },
   "source": [
    "---\n",
    "## 5.3 Summieren (14%)\n",
    "\n",
    "Implementieren Sie eine Funktion, welche ein Array mit Elementen beliebiger Datentypen als Parameter übergeben bekommt. Iterieren Sie mit einer **While**-Schleife durch dieses Array, addieren Sie die Werte aller Elemente, die den Datentyp Integer besitzen, und geben Sie die Summe dieser Addition zurück. Falls kein Integer gefunden wurde, soll 0 zurückgegeben werden.\n",
    "\n",
    "*Hinweis:* Normalerweise würde man in diesem Fall eine Mengenschleife verwenden, aber manche Programmiersprachen kennen keine Mengenschleife und wie man in so einem Fall vorgeht wollen wir hier üben."
   ]
  },
  {
   "cell_type": "code",
   "execution_count": null,
   "metadata": {
    "deletable": false,
    "editable": false,
    "hide_input": true,
    "nbgrader": {
     "cell_type": "code",
     "checksum": "5d876901c28179af573551eafe637c1e",
     "grade": true,
     "grade_id": "cell-e5326c31b59ab9c0",
     "locked": true,
     "points": 0,
     "schema_version": 3,
     "solution": false,
     "task": false
    },
    "run_control": {
     "frozen": true
    }
   },
   "outputs": [],
   "source": [
    "# new test suite\n",
    "jagl.testsuite_begin(\"Exercise 3\")"
   ]
  },
  {
   "cell_type": "code",
   "execution_count": null,
   "metadata": {
    "nbgrader": {
     "cell_type": "code",
     "checksum": "d88affa3195663261e0af510296df939",
     "grade": false,
     "grade_id": "cell-a46c180ca4bae65e",
     "locked": false,
     "schema_version": 3,
     "solution": true
    }
   },
   "outputs": [],
   "source": [
    "# Schreiben Sie Ihren Code in die untenstehende Funktion. Verändern Sie dabei nichts am bereits vorhandenen Code.\n",
    "# Das Array das untersucht werden soll, wird an die untenstehende Funktion als Variable \"array\" übergeben.\n",
    "# Die Funktion soll die Summe aller Integer im untersuchten Array zurückgeben.\n",
    "\n",
    "def sum_array(array):\n",
    "    \n",
    "    count = 0\n",
    "    sum = 0 \n",
    "    while count < len(array):\n",
    "        if type( array[count]) == int:\n",
    "            sum += array[count]\n",
    "        count += 1\n",
    "    return sum\n",
    "    "
   ]
  },
  {
   "cell_type": "code",
   "execution_count": null,
   "metadata": {
    "nbgrader": {
     "cell_type": "code",
     "checksum": "786c91f7f270b0655e1f8913b5a9d479",
     "grade": false,
     "grade_id": "cell-fdf029c8a3e2a637",
     "locked": false,
     "schema_version": 3,
     "solution": true,
     "task": false
    }
   },
   "outputs": [],
   "source": [
    "# Weisen Sie der untenstehenden Variable den Wert True zu, sobald Sie die Aufgabe erfolgreich erledigt haben!\n",
    "\n",
    "# Datentyp: bool\n",
    "exercise_5_3_solved = True"
   ]
  },
  {
   "cell_type": "code",
   "execution_count": null,
   "metadata": {},
   "outputs": [],
   "source": [
    "# Benutzen Sie diesen Funktionsaufruf um Ihr Ergebnis zu testen.\n",
    "# Damit diese Zelle ausgeführt werden kann, führen Sie zuerst die Zelle mit der entsprechenden Funktion aus.\n",
    "\n",
    "sum_array([\"Hello\", 2, \"World\", True, 3, 4.5])"
   ]
  },
  {
   "cell_type": "code",
   "execution_count": null,
   "metadata": {
    "deletable": false,
    "editable": false,
    "hide_input": true,
    "nbgrader": {
     "cell_type": "code",
     "checksum": "1b9f78bfec8111415f0cbbbd02c8c93f",
     "grade": true,
     "grade_id": "cell-5ad268d5c9e631ce",
     "locked": true,
     "points": 14,
     "schema_version": 3,
     "solution": false
    },
    "run_control": {
     "frozen": true
    }
   },
   "outputs": [],
   "source": [
    "@jagl.testcase(\"1\", desc=\"Exercise Solved\")\n",
    "def testcase_3_1(result, suite, case):\n",
    "    varname = \"exercise_5_3_solved\"\n",
    "    result.setSucceeded()\n",
    "    jagl.check_variable_exists_and_has_type(result, globals(), varname, bool)\n",
    "    if result.isSucceeded():\n",
    "        if eval(varname):\n",
    "            result.setSucceeded(\"Exercise solved.\")\n",
    "        else:\n",
    "            result.setFailed(\"Exercise not solved.\")"
   ]
  },
  {
   "cell_type": "code",
   "execution_count": null,
   "metadata": {
    "deletable": false,
    "editable": false,
    "hide_input": true,
    "nbgrader": {
     "cell_type": "code",
     "checksum": "78631b8afea79cf75d4a03406c40f0ff",
     "grade": true,
     "grade_id": "cell-5ab797962a0bd5d0",
     "locked": true,
     "points": 0,
     "schema_version": 3,
     "solution": false
    },
    "run_control": {
     "frozen": true
    }
   },
   "outputs": [],
   "source": [
    "@jagl.testcase(\"2\", desc=\"Check Function sum_array()\", deps=[\"1\"])\n",
    "def testcase_2_2(result, suite, case):\n",
    "    jagl.check_variable_exists_and_has_type(result, globals(), \"sum_array\", types.FunctionType)\n",
    "    if result.isSucceeded():\n",
    "        def _sum_array_(array):\n",
    "            return sum([x for x in array if isinstance(x, int)])\n",
    "        for x in [\n",
    "                [1, 2, 3, 4, 3, 2, 4, 8, 9, 4], \n",
    "                [123, 54, 1234, \"a\", 878, 4.3, 234], \n",
    "                [23, \"hallo\", 54.34, 42, 43.32], \n",
    "                [10.3, \"a\", 2.4, \"b\", 3.4, \"c\", 4.3]\n",
    "            ]:\n",
    "            res1 = sum_array(x)\n",
    "            truth = _sum_array_(x)\n",
    "            if not isinstance(res1, type(truth)):\n",
    "                result.setFailed(f\"Return value of sum_array({x}) has the wrong type ({type(res1)} instead of {type(truth)})\")\n",
    "            elif res1 == truth:\n",
    "                result.setSucceeded(f\"sum_array({x}) returns the correct value\")\n",
    "            else:\n",
    "                result.setFailed(f\"sum_array({x}) returns the wrong value ({res1} instead of {truth})\")"
   ]
  },
  {
   "cell_type": "code",
   "execution_count": null,
   "metadata": {
    "deletable": false,
    "editable": false,
    "hide_input": true,
    "nbgrader": {
     "cell_type": "code",
     "checksum": "1c2a1939ef981541a0228b916075f78a",
     "grade": true,
     "grade_id": "cell-b45f53868df9ef7b",
     "locked": true,
     "points": 0,
     "schema_version": 3,
     "solution": false
    },
    "run_control": {
     "frozen": true
    }
   },
   "outputs": [],
   "source": []
  },
  {
   "cell_type": "code",
   "execution_count": null,
   "metadata": {
    "deletable": false,
    "editable": false,
    "hide_input": true,
    "nbgrader": {
     "cell_type": "code",
     "checksum": "c433e4f185770dbf82cd913c598c5223",
     "grade": true,
     "grade_id": "cell-0316ac53743b92d0",
     "locked": true,
     "points": 0,
     "schema_version": 3,
     "solution": false
    },
    "run_control": {
     "frozen": true
    }
   },
   "outputs": [],
   "source": []
  },
  {
   "cell_type": "code",
   "execution_count": null,
   "metadata": {
    "deletable": false,
    "editable": false,
    "hide_input": true,
    "nbgrader": {
     "cell_type": "code",
     "checksum": "d8a7cfa493842e420f81d67f7d2cfcdf",
     "grade": true,
     "grade_id": "cell-0a6ac8074cbd3393",
     "locked": true,
     "points": 0,
     "schema_version": 3,
     "solution": false
    },
    "run_control": {
     "frozen": true
    }
   },
   "outputs": [],
   "source": []
  },
  {
   "cell_type": "code",
   "execution_count": null,
   "metadata": {
    "deletable": false,
    "editable": false,
    "hide_input": true,
    "nbgrader": {
     "cell_type": "code",
     "checksum": "5b1ef9226fb3abb75168a8325c0295af",
     "grade": true,
     "grade_id": "cell-6c2bdfc04b2a487f",
     "locked": true,
     "points": 0,
     "schema_version": 3,
     "solution": false
    },
    "run_control": {
     "frozen": true
    }
   },
   "outputs": [],
   "source": []
  },
  {
   "cell_type": "markdown",
   "metadata": {
    "deletable": false,
    "editable": false,
    "nbgrader": {
     "cell_type": "markdown",
     "checksum": "e5fb52ac7e562e4576106248ecd3558c",
     "grade": false,
     "grade_id": "cell-f5192cc9c32df4d9",
     "locked": true,
     "schema_version": 3,
     "solution": false
    },
    "run_control": {
     "frozen": true
    }
   },
   "source": [
    "---\n",
    "## 5.4 Stack (14%)\n",
    "\n",
    "Implementieren Sie einen Stack, welcher auf einem dynamischen Array operiert und Elemente mit beliebigen Datentypen beinhalten kann. Dieser Stack soll die Funktionen \"push\", \"pop\", \"top\", \"is_empty\" und \"size\" anbieten. Elemente sollen immer am Ende des Arrays hinzugefügt werden. Es ist erlaubt Elemente mit Hilfe der \"[append](https://www.w3schools.com/python/ref_list_append.asp)\"-Funktion zu diesem Array hinzuzufügen."
   ]
  },
  {
   "cell_type": "code",
   "execution_count": null,
   "metadata": {
    "deletable": false,
    "editable": false,
    "hide_input": true,
    "nbgrader": {
     "cell_type": "code",
     "checksum": "a68b20466f890dde89dc2696752129ff",
     "grade": true,
     "grade_id": "cell-468cab6fc91e1487",
     "locked": true,
     "points": 0,
     "schema_version": 3,
     "solution": false,
     "task": false
    },
    "run_control": {
     "frozen": true
    }
   },
   "outputs": [],
   "source": [
    "# new test suite\n",
    "jagl.testsuite_begin(\"Exercise 4\")"
   ]
  },
  {
   "cell_type": "code",
   "execution_count": null,
   "metadata": {
    "nbgrader": {
     "cell_type": "code",
     "checksum": "3dabb57e5a4514f93fa32000566a2e50",
     "grade": false,
     "grade_id": "cell-71c9c2ed95c0d90d",
     "locked": false,
     "schema_version": 3,
     "solution": true
    }
   },
   "outputs": [],
   "source": [
    "# Schreiben Sie Ihren Code in die untenstehenden Funktion. Verändern Sie dabei nichts am bereits vorhandenen Code.\n",
    "# \"stack\" ist ein Array und \"element\" ist ein Element, welches hinzugefügt werden soll.\n",
    "# Es ist nicht nötig einen Rückgabewert zu definieren.\n",
    "def push(stack, element):\n",
    "    return stack.append(element)\n",
    "    "
   ]
  },
  {
   "cell_type": "code",
   "execution_count": null,
   "metadata": {
    "nbgrader": {
     "cell_type": "code",
     "checksum": "4bd8e83fc188b14b7d28c128ab14a735",
     "grade": false,
     "grade_id": "cell-66fda59e3cf81708",
     "locked": false,
     "schema_version": 3,
     "solution": true
    }
   },
   "outputs": [],
   "source": [
    "# Schreiben Sie Ihren Code in die untenstehenden Funktion. Verändern Sie dabei nichts am bereits vorhandenen Code.\n",
    "# \"stack\" ist ein Array. Falls \"stack\" keine Elemente besitzt, dann soll \"None\" zurückgegeben werden.\n",
    "# Ansonsten soll das letzte Element, das zu \"stack\" hinzugefügt worden ist, zurückgegeben und aus \"stack\" entfernt werden.\n",
    "def pop(stack):\n",
    "    if len(stack) == 0:\n",
    "        return None\n",
    "    end = stack[-1]\n",
    "    del stack[-1]\n",
    "    return end \n",
    "    "
   ]
  },
  {
   "cell_type": "code",
   "execution_count": null,
   "metadata": {
    "nbgrader": {
     "cell_type": "code",
     "checksum": "bf858c99879fd2db5969640771bf19fa",
     "grade": false,
     "grade_id": "cell-31128bbcb422d055",
     "locked": false,
     "schema_version": 3,
     "solution": true
    }
   },
   "outputs": [],
   "source": [
    "# Schreiben Sie Ihren Code in die untenstehenden Funktion. Verändern Sie dabei nichts am bereits vorhandenen Code.\n",
    "# \"stack\" ist ein Array. Falls \"stack\" keine Elemente besitzt, dann soll \"None\" zurückgegeben werden.\n",
    "# Ansonsten soll das letzte Element, das zu \"stack\" hinzugefügt worden ist, zurückgegeben werden.\n",
    "def top(stack):\n",
    "    if len(stack) == 0:\n",
    "        return None\n",
    "    end = stack[-1]\n",
    "    return end \n",
    "    "
   ]
  },
  {
   "cell_type": "code",
   "execution_count": null,
   "metadata": {
    "nbgrader": {
     "cell_type": "code",
     "checksum": "b532b8f3abf47707920c5f720734e3e9",
     "grade": false,
     "grade_id": "cell-9cad03d3e2b42496",
     "locked": false,
     "schema_version": 3,
     "solution": true
    }
   },
   "outputs": [],
   "source": [
    "# Schreiben Sie Ihren Code in die untenstehenden Funktion. Verändern Sie dabei nichts am bereits vorhandenen Code.\n",
    "# \"stack\" ist ein Array. Falls \"stack\" keine Elemente besitzt, dann soll \"True\" zurückgegeben werden, andernfalls \"False\".\n",
    "def is_empty(stack):\n",
    "    return len(stack) == 0\n",
    "    \n",
    "    "
   ]
  },
  {
   "cell_type": "code",
   "execution_count": null,
   "metadata": {
    "nbgrader": {
     "cell_type": "code",
     "checksum": "117c34466b4c503050b726547a60b994",
     "grade": false,
     "grade_id": "cell-531dedd0811e4522",
     "locked": false,
     "schema_version": 3,
     "solution": true
    }
   },
   "outputs": [],
   "source": [
    "# Schreiben Sie Ihren Code in die untenstehenden Funktion. Verändern Sie dabei nichts am bereits vorhandenen Code.\n",
    "# \"stack\" ist ein Array. Die Anzahl der Elemente von \"stack\" soll als Integer zurückgegeben werden.\n",
    "def size(stack):\n",
    "    return len(stack)\n",
    "    "
   ]
  },
  {
   "cell_type": "code",
   "execution_count": null,
   "metadata": {
    "nbgrader": {
     "cell_type": "code",
     "checksum": "e7d1aa125ead43a7cd09bfe0fc19ea27",
     "grade": false,
     "grade_id": "cell-ada8c53ceb20e4c7",
     "locked": false,
     "schema_version": 3,
     "solution": true,
     "task": false
    }
   },
   "outputs": [],
   "source": [
    "# Weisen Sie der untenstehenden Variable den Wert True zu, sobald Sie die Aufgabe erfolgreich erledigt haben!\n",
    "\n",
    "# Datentyp: bool\n",
    "exercise_5_4_solved = True"
   ]
  },
  {
   "cell_type": "code",
   "execution_count": null,
   "metadata": {},
   "outputs": [],
   "source": [
    "# Benutzen Sie diesen Funktionsaufruf um Ihr Ergebnis zu testen.\n",
    "# Damit diese Zelle ausgeführt werden kann, führen Sie zuerst die Zellen mit den entsprechenden Funktionen aus.\n",
    "\n",
    "#Create an empty stack\n",
    "stack = []\n",
    "\n",
    "#Print the stack - expected output: []\n",
    "print(\"Stack: \" + str(stack))\n",
    "\n",
    "#Pushing an element onto the stack\n",
    "print(\"Pushing element: \\\"Hello\\\"\");\n",
    "push(stack, \"Hello\")\n",
    "\n",
    "#Print the stack - expected output: ['Hello']\n",
    "print(\"Stack: \" + str(stack))\n",
    "\n",
    "#Check if the stack is empty\n",
    "print(\"Empty?: \" + str(is_empty(stack)))\n",
    "\n",
    "#Pushing an element onto the stack\n",
    "print(\"Pushing element: 5\");\n",
    "push(stack, 5)\n",
    "\n",
    "#Print the stack - expected output: ['Hello', 5]\n",
    "print(\"Stack: \" + str(stack))\n",
    "\n",
    "#Check the size of the stack\n",
    "print(\"Size: \" + str(size(stack)))\n",
    "\n",
    "#Retrieve the top element of the stack\n",
    "print(\"Top: \" + str(top(stack)))\n",
    "\n",
    "#Print the stack - expected output: ['Hello', 5]\n",
    "print(\"Stack: \" + str(stack))\n",
    "\n",
    "#Retrieve the top element of the stack and delete it\n",
    "print(\"Pop: \" + str(pop(stack)))\n",
    "\n",
    "#Print the stack - expected output: ['Hello']\n",
    "print(\"Stack: \" + str(stack))\n",
    "\n",
    "#Check the size of the stack\n",
    "print(\"Size: \" + str(size(stack)))\n",
    "\n",
    "#Retrieve the top element of the stack and delete it\n",
    "print(\"Pop: \" + str(pop(stack)))\n",
    "\n",
    "#Check if the stack is empty\n",
    "print(\"Empty?: \" + str(is_empty(stack)))\n",
    "\n",
    "#Print the stack - expected output: []\n",
    "print(\"Stack: \" + str(stack))"
   ]
  },
  {
   "cell_type": "code",
   "execution_count": null,
   "metadata": {
    "deletable": false,
    "editable": false,
    "hide_input": true,
    "nbgrader": {
     "cell_type": "code",
     "checksum": "0dc79c1439f8f9f3f15b8e6616ebb15f",
     "grade": true,
     "grade_id": "cell-927be58b848738a7",
     "locked": true,
     "points": 14,
     "schema_version": 3,
     "solution": false
    },
    "run_control": {
     "frozen": true
    }
   },
   "outputs": [],
   "source": [
    "@jagl.testcase(\"1\", desc=\"Exercise Solved\")\n",
    "def testcase_4_1(result, suite, case):\n",
    "    varname = \"exercise_5_4_solved\"\n",
    "    result.setSucceeded()\n",
    "    jagl.check_variable_exists_and_has_type(result, globals(), varname, bool)\n",
    "    if result.isSucceeded():\n",
    "        if eval(varname):\n",
    "            result.setSucceeded(\"Exercise solved.\")\n",
    "        else:\n",
    "            result.setFailed(\"Exercise not solved.\")"
   ]
  },
  {
   "cell_type": "code",
   "execution_count": null,
   "metadata": {
    "deletable": false,
    "editable": false,
    "hide_input": true,
    "nbgrader": {
     "cell_type": "code",
     "checksum": "f5e26fb7ec3042e2c068f4e6845f9c24",
     "grade": true,
     "grade_id": "cell-854059a6959ff78d",
     "locked": true,
     "points": 0,
     "schema_version": 3,
     "solution": false
    },
    "run_control": {
     "frozen": true
    }
   },
   "outputs": [],
   "source": [
    "@jagl.testcase(\"2\", desc=\"Check Stack Functions\", deps=[\"1\"])\n",
    "def testcase_4_2(result, suite, case):\n",
    "    jagl.check_variable_exists_and_has_type(result, globals(), \"push\", types.FunctionType)\n",
    "    jagl.check_variable_exists_and_has_type(result, globals(), \"pop\", types.FunctionType)\n",
    "    jagl.check_variable_exists_and_has_type(result, globals(), \"top\", types.FunctionType)\n",
    "    jagl.check_variable_exists_and_has_type(result, globals(), \"is_empty\", types.FunctionType)\n",
    "    jagl.check_variable_exists_and_has_type(result, globals(), \"size\", types.FunctionType)"
   ]
  },
  {
   "cell_type": "code",
   "execution_count": null,
   "metadata": {
    "deletable": false,
    "editable": false,
    "hide_input": true,
    "nbgrader": {
     "cell_type": "code",
     "checksum": "a2678ac0b2f56b361503367fefc0f2f8",
     "grade": true,
     "grade_id": "cell-3c0c066cb9d2c448",
     "locked": true,
     "points": 0,
     "schema_version": 3,
     "solution": false
    },
    "run_control": {
     "frozen": true
    }
   },
   "outputs": [],
   "source": [
    "@jagl.testcase(\"3\", desc=\"Test Stack Functions\", deps=[\"2\"])\n",
    "def testcase_4_3(result, suite, case):\n",
    "    stack = []\n",
    "    try:\n",
    "        push(stack, \"Hello\")\n",
    "        assert stack == [\"Hello\"]\n",
    "        result.setSucceeded(\"\\\"push(stack, \\\"Hello\\\")\\\" seems to produce a correct result.\")\n",
    "    except:\n",
    "        result.setFailed(\"\\\"push(stack, \\\"Hello\\\")\\\" produced a wrong result.\")\n",
    "\n",
    "    try:\n",
    "        assert is_empty(stack) == False\n",
    "        result.setSucceeded(\"\\\"is_empty(stack)\\\" seems to produce a correct result.\")\n",
    "    except:\n",
    "        result.setFailed(\"\\\"is_empty(stack)\\\" produced a wrong result.\")\n",
    "\n",
    "    try:\n",
    "        push(stack, 5)\n",
    "        assert stack == [\"Hello\", 5]\n",
    "        result.setSucceeded(\"\\\"push(stack, 5)\\\" seems to produce a correct result.\")\n",
    "    except:\n",
    "        result.setFailed(\"\\\"push(stack, 5)\\\" produced a wrong result.\")\n",
    "\n",
    "    try:\n",
    "        assert size(stack) == 2\n",
    "        result.setSucceeded(\"\\\"size(stack)\\\" seems to produce a correct result.\")\n",
    "    except:\n",
    "        result.setFailed(\"\\\"size(stack)\\\" produced a wrong result.\")\n",
    "\n",
    "    try:\n",
    "        assert top(stack) == 5\n",
    "        result.setSucceeded(\"\\\"top(stack)\\\" seems to produce a correct result.\")\n",
    "    except:\n",
    "        result.setFailed(\"\\\"top(stack)\\\" produced a wrong result.\")\n",
    "\n",
    "    try:\n",
    "        assert pop(stack) == 5\n",
    "        result.setSucceeded(\"\\\"pop(stack)\\\" seems to produce a correct result.\")\n",
    "    except:\n",
    "        result.setFailed(\"\\\"pop(stack)\\\" produced a wrong result.\")\n",
    "\n",
    "    try:\n",
    "        assert size(stack) == 1\n",
    "        result.setSucceeded(\"\\\"size(stack)\\\" seems to produce a correct result.\")\n",
    "    except:\n",
    "        result.setFailed(\"\\\"size(stack)\\\" produced a wrong result.\")\n",
    "\n",
    "    try:\n",
    "        assert pop(stack) == \"Hello\"\n",
    "        result.setSucceeded(\"\\\"pop(stack)\\\" seems to produce a correct result.\")\n",
    "    except:\n",
    "        result.setFailed(\"\\\"size(stack)\\\" produced a wrong result.\")\n",
    "\n",
    "    try:\n",
    "        assert is_empty(stack) == True\n",
    "        result.setSucceeded(\"\\\"is_empty(stack)\\\" seems to produce a correct result.\")\n",
    "    except:\n",
    "        result.setFailed(\"\\\"is_empty(stack)\\\" produced a wrong result.\")"
   ]
  },
  {
   "cell_type": "code",
   "execution_count": null,
   "metadata": {
    "deletable": false,
    "editable": false,
    "hide_input": true,
    "nbgrader": {
     "cell_type": "code",
     "checksum": "cb714d86abe40916df31a18dca707f63",
     "grade": true,
     "grade_id": "cell-03ba6c7152ba5c77",
     "locked": true,
     "points": 0,
     "schema_version": 3,
     "solution": false
    },
    "run_control": {
     "frozen": true
    }
   },
   "outputs": [],
   "source": []
  },
  {
   "cell_type": "code",
   "execution_count": null,
   "metadata": {
    "deletable": false,
    "editable": false,
    "hide_input": true,
    "nbgrader": {
     "cell_type": "code",
     "checksum": "51254a62806c8d45a3328808d1821f6b",
     "grade": true,
     "grade_id": "cell-48a18b9e1b57415e",
     "locked": true,
     "points": 0,
     "schema_version": 3,
     "solution": false
    },
    "run_control": {
     "frozen": true
    }
   },
   "outputs": [],
   "source": []
  },
  {
   "cell_type": "code",
   "execution_count": null,
   "metadata": {
    "deletable": false,
    "editable": false,
    "hide_input": true,
    "nbgrader": {
     "cell_type": "code",
     "checksum": "12eb09fd17d0b86f3e24cb010c0a0738",
     "grade": true,
     "grade_id": "cell-371acd896dba445d",
     "locked": true,
     "points": 0,
     "schema_version": 3,
     "solution": false
    },
    "run_control": {
     "frozen": true
    }
   },
   "outputs": [],
   "source": []
  },
  {
   "cell_type": "markdown",
   "metadata": {
    "deletable": false,
    "editable": false,
    "nbgrader": {
     "cell_type": "markdown",
     "checksum": "a7adedb8b633c6bbbee16b5cc1062632",
     "grade": false,
     "grade_id": "cell-201e69b63bc2a16c",
     "locked": true,
     "schema_version": 3,
     "solution": false,
     "task": false
    },
    "run_control": {
     "frozen": true
    }
   },
   "source": [
    "---\n",
    "## 5.5 Ziffernpotenzsumme (16%)\n",
    "\n",
    "Die positive Ganzzahl $512$ ist interessant (in der Mathematik nennt man eine Zahl interessant, wenn sie besondere Eigenschaften erfüllt) weil sie gleich der [Ziffernsumme](https://de.wikipedia.org/wiki/Quersumme) potentiert mit einer natürlichen Zahl ist: $5 + 1 + 2 = 8$, und $8^3 = 512$.\n",
    "\n",
    "Ein anderes Beispiel ist $614656$: $6 + 1 + 4 + 6 + 5 + 6 = 28$, und $28^4 = 614656$\n",
    "\n",
    "Implementieren Sie ein Programm, welches alle interessanten Zahlen (d.h. alle Zahlen, welche die oben demonstrierten Eigenschaften besitzt) innerhalb eines angegebenen Zahlenbereichs findet.\n",
    "\n",
    "---\n",
    "\n",
    "Beim Lösen solcher Aufgaben wendet man das **Teile-und-Herrsche** Prinzip an, d.h. man zerlegt ein komplexes Problem in mehrere leichter zu lösende Teilprobleme. Zur Erleichterung der Aufgabe haben wir das Zerlegen der Aufgabe in Teilprobleme für Sie schon vorgenommen:\n",
    "\n",
    "1. Implementieren Sie die Funktion `get_digits(n)`, welche eine positive Ganzzahl `n` in die einzelnen Ziffern zerlegt und diese als Liste zurückgibt. Zum Beispiel, der Aufruf von `get_digits(13442)` liefert die Liste `[1, 3, 4, 4, 2]`. Die Reihenfolge der einzelnen Ziffern in dieser Liste ist dabei egal.\n",
    "\n",
    "\n",
    "2. Implementieren Sie die Funktion `digit_power_sum(digits, power)`, welche die Summe der Ziffern in der übergebenen Liste (1.Argument) berechnet und mit dem angegebenen Exponenten (2. Argument) potentiert (Zur Berechnung der Potenz können Sie in Python den Operator `**` verwenden). Das Ergebnis wird anschließend zurückgegeben. Zum Beispiel, der Aufruf von `digit_power_sum([2, 3, 1], 3)` liefert als Ergebnis `216`.\n",
    "\n",
    "\n",
    "3. Implementieren Sie die Funktion `is_interesting_number(n)`, welche die Funktion `get_digits(n)` verwendet, um die Zahl `n` in ihre Ziffern zerlegt. Anschließend wird `digit_power_sum(digits, power)` mit unterschiedlichen Exponenten aufgerufen und überprüft, ob das Ergebnis gleich der Zahl `n` ist. Wenn die Zahl interessant ist, soll `True` zurückgegeben werden, ansonsten `False`. Zum Beispiel, der Aufruf von `is_interesting_number(512)` liefert als Ergebnis `True`.\n",
    "\n",
    "\n",
    "4. Implementieren Sie die Funktion `get_interesting_numbers(l, u)`, welche für alle Zahlen im Interval von `l` bis `u` (beide Grenzen inklusive) überprüft, ob diese interessant sind. Alle gefundenen interessanten Zahlen sollen als Liste zurückgegeben werden. Zum Beispiel, der Aufruf von `get_interesting_number(400, 600)` liefert als Ergebnis `[512]`.\n",
    "\n",
    "---\n",
    "\n",
    "Tipps:\n",
    "\n",
    "Zu 1: \n",
    "* Verwenden Sie die Operatoren `%` und `//`.\n",
    "\n",
    "\n",
    "Zu 3: \n",
    "* Wenn die Ziffernsumme 1 ist, dann können Sie die dazugehörige Zahl ignorieren, da 1 potentiert mit irgendeinem Exponenten immer 1 ergibt. \n",
    "\n",
    "* Wenn die Ziffernpotenzsumme mit einem Exponenten e größer als die Zahl n ist, dann ist die Überprüfung aller Exponenten größer als e sinnlos, da deren Ziffernpotenzsumme immer größer als n sein wird."
   ]
  },
  {
   "cell_type": "code",
   "execution_count": null,
   "metadata": {
    "deletable": false,
    "editable": false,
    "hide_input": true,
    "nbgrader": {
     "cell_type": "code",
     "checksum": "d51f7f91ee1fed05685474ad913b027c",
     "grade": true,
     "grade_id": "cell-9cd79902d2a1b7ed",
     "locked": true,
     "points": 0,
     "schema_version": 3,
     "solution": false,
     "task": false
    },
    "run_control": {
     "frozen": true
    }
   },
   "outputs": [],
   "source": [
    "# new test suite\n",
    "jagl.testsuite_begin(\"Exercise 5\")"
   ]
  },
  {
   "cell_type": "code",
   "execution_count": null,
   "metadata": {
    "nbgrader": {
     "cell_type": "code",
     "checksum": "d4be7201167cd22cdd4aa8055d455e80",
     "grade": false,
     "grade_id": "cell-8a980124d4e15861",
     "locked": false,
     "schema_version": 3,
     "solution": true,
     "task": false
    }
   },
   "outputs": [],
   "source": [
    "# Schreiben Sie Ihren Code in die untenstehenden Funktion. Verändern Sie dabei nichts am bereits vorhandenen Code.\n",
    "# \"n\" ist eine positive Ganzzahl\n",
    "def get_digits(n):\n",
    "    digits = []\n",
    "    n = str(n)\n",
    "    for i in range(len(n)):\n",
    "        digits.append(int(n[i]))\n",
    "    return digits"
   ]
  },
  {
   "cell_type": "code",
   "execution_count": null,
   "metadata": {
    "nbgrader": {
     "cell_type": "code",
     "checksum": "8b2f6d122d15d28e32170af29582cce9",
     "grade": false,
     "grade_id": "cell-ccd46625207f1434",
     "locked": false,
     "schema_version": 3,
     "solution": true,
     "task": false
    }
   },
   "outputs": [],
   "source": [
    "# Schreiben Sie Ihren Code in die untenstehenden Funktion. Verändern Sie dabei nichts am bereits vorhandenen Code.\n",
    "# \"digits\" ist eine Liste von positiven Ganzzahlen und \"power\" ist eine positive Ganzzahl\n",
    "def digit_power_sum(digits, power):\n",
    "    sum = 0\n",
    "    for i in digits:\n",
    "        sum += i\n",
    "    return sum**power"
   ]
  },
  {
   "cell_type": "code",
   "execution_count": null,
   "metadata": {
    "nbgrader": {
     "cell_type": "code",
     "checksum": "c93159272519f053b03186ab86e7efaf",
     "grade": false,
     "grade_id": "cell-c34e7c91d8a13d26",
     "locked": false,
     "schema_version": 3,
     "solution": true,
     "task": false
    }
   },
   "outputs": [],
   "source": [
    "# Schreiben Sie Ihren Code in die untenstehenden Funktion. Verändern Sie dabei nichts am bereits vorhandenen Code.\n",
    "# \"n\" ist eine positive Ganzzahl\n",
    "def is_interesting_number(n):\n",
    "    digits = get_digits(n)\n",
    "    \n",
    "    exp = 1\n",
    "    number = 0\n",
    "    while number < n:\n",
    "        number = digit_power_sum(digits, exp)\n",
    "        exp += 1\n",
    "    \n",
    "    return number == n"
   ]
  },
  {
   "cell_type": "code",
   "execution_count": null,
   "metadata": {
    "nbgrader": {
     "cell_type": "code",
     "checksum": "2e9970c73c95eec49efa814248ad0279",
     "grade": false,
     "grade_id": "cell-a39576fd285bd88f",
     "locked": false,
     "schema_version": 3,
     "solution": true,
     "task": false
    }
   },
   "outputs": [],
   "source": [
    "# Schreiben Sie Ihren Code in die untenstehenden Funktion. Verändern Sie dabei nichts am bereits vorhandenen Code.\n",
    "# \"l\" und \"u\" sind positive Ganzzahlen\n",
    "def get_interesting_numbers(l, u):\n",
    "    intresting_num = []\n",
    "    for i in range(l,u):\n",
    "        if is_interesting_number(i):\n",
    "            intresting_num.append(i)\n",
    "    return intresting_num"
   ]
  },
  {
   "cell_type": "code",
   "execution_count": null,
   "metadata": {
    "nbgrader": {
     "cell_type": "code",
     "checksum": "2f444a36d043d2bc025aade1d7bf9897",
     "grade": false,
     "grade_id": "cell-ed2b191edbdd4483",
     "locked": false,
     "schema_version": 3,
     "solution": true,
     "task": false
    }
   },
   "outputs": [],
   "source": [
    "# Weisen Sie der untenstehenden Variable den Wert True zu, sobald Sie die Aufgabe erfolgreich erledigt haben!\n",
    "\n",
    "exercise_5_5_result = []\n",
    "# Datentyp: bool\n",
    "exercise_5_5_solved = True\n",
    "\n",
    "# DEINE ANTWORT HIER"
   ]
  },
  {
   "cell_type": "code",
   "execution_count": null,
   "metadata": {},
   "outputs": [],
   "source": [
    "# Benutzen Sie diesen Funktionsaufruf um Ihr Ergebnis zu testen.\n",
    "# Damit diese Zelle ausgeführt werden kann, führen Sie zuerst die Zellen mit den entsprechenden Funktionen aus.\n",
    "\n",
    "get_digits(13442)"
   ]
  },
  {
   "cell_type": "code",
   "execution_count": null,
   "metadata": {},
   "outputs": [],
   "source": [
    "# Benutzen Sie diesen Funktionsaufruf um Ihr Ergebnis zu testen.\n",
    "# Damit diese Zelle ausgeführt werden kann, führen Sie zuerst die Zellen mit den entsprechenden Funktionen aus.\n",
    "\n",
    "digit_power_sum([2, 3, 1], 3)"
   ]
  },
  {
   "cell_type": "code",
   "execution_count": null,
   "metadata": {},
   "outputs": [],
   "source": [
    "# Benutzen Sie diesen Funktionsaufruf um Ihr Ergebnis zu testen.\n",
    "# Damit diese Zelle ausgeführt werden kann, führen Sie zuerst die Zellen mit den entsprechenden Funktionen aus.\n",
    "\n",
    "is_interesting_number(513)"
   ]
  },
  {
   "cell_type": "code",
   "execution_count": null,
   "metadata": {},
   "outputs": [],
   "source": [
    "# Benutzen Sie diesen Funktionsaufruf um Ihr Ergebnis zu testen.\n",
    "# Damit diese Zelle ausgeführt werden kann, führen Sie zuerst die Zellen mit den entsprechenden Funktionen aus.\n",
    "\n",
    "get_interesting_numbers(16000, 100000)"
   ]
  },
  {
   "cell_type": "code",
   "execution_count": null,
   "metadata": {
    "deletable": false,
    "editable": false,
    "hide_input": true,
    "nbgrader": {
     "cell_type": "code",
     "checksum": "2b5478d66490ed15d0f48c11ead28313",
     "grade": true,
     "grade_id": "cell-fd958860486549e5",
     "locked": true,
     "points": 0,
     "schema_version": 3,
     "solution": false,
     "task": false
    },
    "run_control": {
     "frozen": true
    }
   },
   "outputs": [],
   "source": [
    "@jagl.testcase(\"1\", desc=\"Exercise Solved\")\n",
    "def testcase_5_1(result, suite, case):\n",
    "    varname = \"exercise_5_5_solved\"\n",
    "    result.setSucceeded()\n",
    "    jagl.check_variable_exists_and_has_type(result, globals(), varname, bool)\n",
    "    if result.isSucceeded():\n",
    "        if eval(varname):\n",
    "            result.setSucceeded(\"Exercise solved.\")\n",
    "        else:\n",
    "            result.setFailed(\"Exercise not solved.\")"
   ]
  },
  {
   "cell_type": "code",
   "execution_count": null,
   "metadata": {
    "deletable": false,
    "editable": false,
    "hide_input": true,
    "nbgrader": {
     "cell_type": "code",
     "checksum": "fa4f7fbe3991aac3817da0483ddf1aa4",
     "grade": true,
     "grade_id": "cell-0c4238a7c7815f8a",
     "locked": true,
     "points": 16,
     "schema_version": 3,
     "solution": false,
     "task": false
    },
    "run_control": {
     "frozen": true
    }
   },
   "outputs": [],
   "source": [
    "@jagl.testcase(\"2\", desc=\"Check Functions\", deps=[\"1\"])\n",
    "def testcase_5_2(result, suite, case):\n",
    "    jagl.check_variable_exists_and_has_type(result, globals(), \"get_digits\", types.FunctionType)\n",
    "    jagl.check_variable_exists_and_has_type(result, globals(), \"digit_power_sum\", types.FunctionType)\n",
    "    jagl.check_variable_exists_and_has_type(result, globals(), \"is_interesting_number\", types.FunctionType)\n",
    "    jagl.check_variable_exists_and_has_type(result, globals(), \"get_interesting_numbers\", types.FunctionType)\n",
    "    if result.isSucceeded():\n",
    "        def _get_digits_(n):\n",
    "            digits = []\n",
    "            while n > 0:\n",
    "                digits.append(n % 10)\n",
    "                n = n // 10\n",
    "            return digits\n",
    "        def _digit_power_sum_(digits, power):\n",
    "            result = 0\n",
    "            for e in digits:\n",
    "                result += e\n",
    "            result = result ** power\n",
    "            return result\n",
    "        def _is_interesting_number_(n):\n",
    "            digits = _get_digits_(n)\n",
    "            i = 1\n",
    "            tmp = _digit_power_sum_(digits, i)\n",
    "            while tmp > 1 and tmp <= n:\n",
    "                if tmp == n:\n",
    "                    return True\n",
    "                i += 1\n",
    "                tmp = _digit_power_sum_(digits, i)\n",
    "            return False\n",
    "        def _get_interesting_numbers_(l, u):\n",
    "            interesting_numbers = []\n",
    "            for i in range(l, u+1):\n",
    "                if _is_interesting_number_(i):\n",
    "                    interesting_numbers.append(i)\n",
    "            return interesting_numbers\n",
    "        for x in [\n",
    "                [400, 600], \n",
    "                [100, 1000], \n",
    "                [0, 100], \n",
    "                [10, 10000]\n",
    "            ]:\n",
    "            res1 = get_interesting_numbers(*x)\n",
    "            truth = _get_interesting_numbers_(*x)\n",
    "            if not isinstance(res1, type(truth)):\n",
    "                result.setFailed(f\"Return value of get_interesting_numbers({x}) has the wrong type ({type(res1)} instead of {type(truth)})\")\n",
    "            elif res1 == truth:\n",
    "                result.setSucceeded(f\"get_interesting_numbers({x}) returns the correct value\")\n",
    "            else:\n",
    "                result.setFailed(f\"get_interesting_numbers({x}) returns the wrong value ({res1} instead of {truth})\")"
   ]
  },
  {
   "cell_type": "code",
   "execution_count": null,
   "metadata": {
    "deletable": false,
    "editable": false,
    "hide_input": true,
    "nbgrader": {
     "cell_type": "code",
     "checksum": "a440852af61c6e34a041a4e7bb2dbcb5",
     "grade": true,
     "grade_id": "cell-16485a07bc2a0adf",
     "locked": true,
     "points": 0,
     "schema_version": 3,
     "solution": false,
     "task": false
    },
    "run_control": {
     "frozen": true
    }
   },
   "outputs": [],
   "source": []
  },
  {
   "cell_type": "code",
   "execution_count": null,
   "metadata": {
    "deletable": false,
    "editable": false,
    "hide_input": true,
    "nbgrader": {
     "cell_type": "code",
     "checksum": "55349372251a49af74d27cc282b48973",
     "grade": true,
     "grade_id": "cell-f060b2fb1bfb8113",
     "locked": true,
     "points": 0,
     "schema_version": 3,
     "solution": false,
     "task": false
    },
    "run_control": {
     "frozen": true
    }
   },
   "outputs": [],
   "source": []
  },
  {
   "cell_type": "code",
   "execution_count": null,
   "metadata": {
    "deletable": false,
    "editable": false,
    "hide_input": true,
    "nbgrader": {
     "cell_type": "code",
     "checksum": "b0f3abb7ec522f3f0bbc29221acaff52",
     "grade": true,
     "grade_id": "cell-74165b299d623f7b",
     "locked": true,
     "points": 0,
     "schema_version": 3,
     "solution": false,
     "task": false
    },
    "run_control": {
     "frozen": true
    }
   },
   "outputs": [],
   "source": []
  },
  {
   "cell_type": "code",
   "execution_count": null,
   "metadata": {
    "deletable": false,
    "editable": false,
    "hide_input": true,
    "nbgrader": {
     "cell_type": "code",
     "checksum": "d4c7cbad7fbda1e7cd4b063beee52462",
     "grade": true,
     "grade_id": "cell-e59a1d455c27ac2c",
     "locked": true,
     "points": 0,
     "schema_version": 3,
     "solution": false,
     "task": false
    },
    "run_control": {
     "frozen": true
    }
   },
   "outputs": [],
   "source": []
  },
  {
   "cell_type": "code",
   "execution_count": null,
   "metadata": {
    "deletable": false,
    "editable": false,
    "hide_input": true,
    "nbgrader": {
     "cell_type": "code",
     "checksum": "5c3187e5a7a6fdf3267fc527f060b521",
     "grade": true,
     "grade_id": "cell-0415a1a8d385a68a",
     "locked": true,
     "points": 0,
     "schema_version": 3,
     "solution": false,
     "task": false
    },
    "run_control": {
     "frozen": true
    }
   },
   "outputs": [],
   "source": []
  },
  {
   "cell_type": "markdown",
   "metadata": {
    "deletable": false,
    "editable": false,
    "nbgrader": {
     "cell_type": "markdown",
     "checksum": "93e6ba1b2ccea8150c6eb638473f470c",
     "grade": false,
     "grade_id": "cell-312ba68a9de31297",
     "locked": true,
     "schema_version": 3,
     "solution": false,
     "task": false
    },
    "run_control": {
     "frozen": true
    }
   },
   "source": [
    "---\n",
    "## 5.6 Fakultäten der Ziffern (16%)\n",
    "\n",
    "\n",
    "Die Zahl 145 ist eine Zahl mit einer interessanten Eigenschaft: $1! + 4! + 5! = 1 + 24 + 120 = 145$.\n",
    "\n",
    "Finden Sie die **Summe aller Zahlen** (bis zu einer gegebenen Obergrenze `n`), bei denen die Summe der Fakultäten ihrer Ziffern die Zahl selber ergibt.\n",
    "\n",
    "Hinweis :1!=1 und 2!=2 sind nicht damit gemeint, da hier keine Summe gebildet wird.\n",
    "\n",
    "Diesmal müssen Sie das Teile-und-Herrsche Prinzip selber anwenden. Versuchen Sie dieses Problem in Teilprobleme aufzuteilen und diese getrennt voneinander zu implementieren, bevor Sie dann am Ende die Teillösungen zu einem gesamten Programm zusammenfügen.\n",
    "\n",
    "Tipp: Sie können bestehene Teillösungen von diesem Übungszettel und den Jupyter Notebook Sheets auf Sakai wiederverwenden.\n",
    "\n",
    "Bonusaufgabe: Wie kann man die Berechnung beschleunigen?"
   ]
  },
  {
   "cell_type": "code",
   "execution_count": null,
   "metadata": {
    "deletable": false,
    "editable": false,
    "hide_input": true,
    "nbgrader": {
     "cell_type": "code",
     "checksum": "e945b7d4caa9543c8a5a4f19e6286e2b",
     "grade": true,
     "grade_id": "cell-82985af929bbd1c3",
     "locked": true,
     "points": 0,
     "schema_version": 3,
     "solution": false,
     "task": false
    },
    "run_control": {
     "frozen": true
    }
   },
   "outputs": [],
   "source": [
    "# new test suite\n",
    "jagl.testsuite_begin(\"Exercise 6\")"
   ]
  },
  {
   "cell_type": "code",
   "execution_count": 38,
   "metadata": {
    "nbgrader": {
     "cell_type": "code",
     "checksum": "49aebaf6394cd6214842d2db1c8a7941",
     "grade": false,
     "grade_id": "cell-4021296e4f1d0a89",
     "locked": false,
     "schema_version": 3,
     "solution": true,
     "task": false
    }
   },
   "outputs": [],
   "source": [
    "# Schreiben Sie Ihren Code in die untenstehenden Funktion. Verändern Sie dabei nichts am bereits vorhandenen Code.\n",
    "# \"n\" ist eine positive Ganzzahl\n",
    "# Rückgabewert: Ganzzahl\n",
    "# Schreiben Sie bitte auch alle zusätzlichen Funktionen in diese Zelle und fügen Sie keine neuen Zellen hinzu.\n",
    "\n",
    "def get_digits(n):\n",
    "    digits = []\n",
    "    n = str(n)\n",
    "    for i in range(len(n)):\n",
    "        digits.append(int(n[i]))\n",
    "    return digits\n",
    "\n",
    "def calc_factorial(x):\n",
    "    fact = 1\n",
    "    for i in range(1,x+1):\n",
    "        fact = fact*i\n",
    "    return fact\n",
    "\n",
    "def digits_factorial(n):\n",
    "    \n",
    "    #faster computing time by pre-calculating the factorials from 0-9 (single digits)\n",
    "    list_fact = [calc_factorial(x) for x in range(10)]\n",
    "\n",
    "    sum = 0\n",
    "    for i in range(3,n):\n",
    "        digits = get_digits(i)\n",
    "        res = 0\n",
    "        for j in digits:\n",
    "            res = res+ list_fact[j]\n",
    "        if res == i:\n",
    "            sum += res\n",
    "            \n",
    "    return sum \n",
    "    "
   ]
  },
  {
   "cell_type": "code",
   "execution_count": 42,
   "metadata": {
    "nbgrader": {
     "cell_type": "code",
     "checksum": "37a1536b9052f1355f3c04ffe778f987",
     "grade": false,
     "grade_id": "cell-5ba555eb27a5196e",
     "locked": false,
     "schema_version": 3,
     "solution": true,
     "task": false
    }
   },
   "outputs": [],
   "source": [
    "# Weisen Sie der untenstehenden Variable den Wert True zu, sobald Sie die Aufgabe erfolgreich erledigt haben!\n",
    "exercise_5_6_result = []\n",
    "# Datentyp: bool\n",
    "exercise_5_6_solved = True"
   ]
  },
  {
   "cell_type": "code",
   "execution_count": 40,
   "metadata": {
    "hide_input": false
   },
   "outputs": [
    {
     "data": {
      "text/plain": [
       "145"
      ]
     },
     "execution_count": 40,
     "metadata": {},
     "output_type": "execute_result"
    }
   ],
   "source": [
    "# Benutzen Sie diesen Funktionsaufruf um Ihr Ergebnis zu testen.\n",
    "# Damit diese Zelle ausgeführt werden kann, führen Sie zuerst die Zellen mit den entsprechenden Funktionen aus.\n",
    "\n",
    "digits_factorial(1000)"
   ]
  },
  {
   "cell_type": "code",
   "execution_count": null,
   "metadata": {
    "deletable": false,
    "editable": false,
    "hide_input": true,
    "nbgrader": {
     "cell_type": "code",
     "checksum": "9cb4086a6ec47a65f177e4ec760410d8",
     "grade": true,
     "grade_id": "cell-e69df3ee9857dd46",
     "locked": true,
     "points": 16,
     "schema_version": 3,
     "solution": false,
     "task": false
    },
    "run_control": {
     "frozen": true
    }
   },
   "outputs": [],
   "source": [
    "@jagl.testcase(\"1\", desc=\"Exercise Solved\")\n",
    "def testcase_6_1(result, suite, case):\n",
    "    varname = \"exercise_5_6_solved\"\n",
    "    result.setSucceeded()\n",
    "    jagl.check_variable_exists_and_has_type(result, globals(), varname, bool)\n",
    "    if result.isSucceeded():\n",
    "        if eval(varname):\n",
    "            result.setSucceeded(\"Exercise solved.\")\n",
    "        else:\n",
    "            result.setFailed(\"Exercise not solved.\")"
   ]
  },
  {
   "cell_type": "code",
   "execution_count": null,
   "metadata": {
    "deletable": false,
    "editable": false,
    "hide_input": true,
    "nbgrader": {
     "cell_type": "code",
     "checksum": "f5894bc4e92f96a2d6dc7ba0410fd876",
     "grade": true,
     "grade_id": "cell-5105b2b674622823",
     "locked": true,
     "points": 0,
     "schema_version": 3,
     "solution": false,
     "task": false
    },
    "run_control": {
     "frozen": true
    }
   },
   "outputs": [],
   "source": [
    "@jagl.testcase(\"2\", desc=\"Check Functions\", deps=[\"1\"])\n",
    "def testcase_6_2(result, suite, case):\n",
    "    try:\n",
    "        jagl.check_variable_exists_and_has_type(result, globals(), \"digits_factorial\", types.FunctionType)\n",
    "        if result.isSucceeded():\n",
    "            def _fact_(n):\n",
    "                fact = 1\n",
    "                for i in range(1, n+1):\n",
    "                    fact = fact * i\n",
    "                return fact\n",
    "            precalc = []\n",
    "            for i in range(0, 10):\n",
    "                precalc.append(_fact_(i))\n",
    "            def _get_digits_(n):\n",
    "                digits = []\n",
    "                while n > 0:\n",
    "                    digits.append(n % 10)\n",
    "                    n = n // 10\n",
    "                return digits\n",
    "            def _digits_factorial_(n):\n",
    "                sum = 0\n",
    "                interesting_numbers = []\n",
    "                for i in range(3, n):\n",
    "                    dsum = 0\n",
    "                    for d in _get_digits_(i):\n",
    "                        dsum += precalc[d]\n",
    "                    if dsum == i:\n",
    "                        sum += i\n",
    "                return sum\n",
    "            for x in [\n",
    "                    100, 1000, 100000\n",
    "                ]:\n",
    "                res1 = digits_factorial(x)\n",
    "                truth = _digits_factorial_(x)\n",
    "                if not isinstance(res1, type(truth)):\n",
    "                    result.setFailed(f\"Return value of digits_factorial({x}) has the wrong type ({type(res1)} instead of {type(truth)})\")\n",
    "                elif res1 == truth:\n",
    "                    result.setSucceeded(f\"digits_factorial({x}) returns the correct value\")\n",
    "                else:\n",
    "                    result.setFailed(f\"digits_factorial({x}) returns the wrong value ({res1} instead of {truth})\")\n",
    "    except:\n",
    "        import traceback\n",
    "        traceback.print_exc()"
   ]
  },
  {
   "cell_type": "code",
   "execution_count": null,
   "metadata": {
    "deletable": false,
    "editable": false,
    "hide_input": true,
    "nbgrader": {
     "cell_type": "code",
     "checksum": "4853c07628e48e3e0052a8553b842891",
     "grade": true,
     "grade_id": "cell-7bd067409ad1df83",
     "locked": true,
     "points": 0,
     "schema_version": 3,
     "solution": false,
     "task": false
    },
    "run_control": {
     "frozen": true
    }
   },
   "outputs": [],
   "source": []
  },
  {
   "cell_type": "code",
   "execution_count": null,
   "metadata": {
    "deletable": false,
    "editable": false,
    "hide_input": true,
    "nbgrader": {
     "cell_type": "code",
     "checksum": "e75f566415cd59ffd07ddfe5acfe7305",
     "grade": true,
     "grade_id": "cell-0ef56451ffc9f6df",
     "locked": true,
     "points": 0,
     "schema_version": 3,
     "solution": false,
     "task": false
    },
    "run_control": {
     "frozen": true
    }
   },
   "outputs": [],
   "source": []
  },
  {
   "cell_type": "code",
   "execution_count": null,
   "metadata": {
    "deletable": false,
    "editable": false,
    "hide_input": true,
    "nbgrader": {
     "cell_type": "code",
     "checksum": "b833a45d125c6024fefe223314cc217b",
     "grade": true,
     "grade_id": "cell-4507868a4978a8c2",
     "locked": true,
     "points": 0,
     "schema_version": 3,
     "solution": false,
     "task": false
    },
    "run_control": {
     "frozen": true
    }
   },
   "outputs": [],
   "source": []
  },
  {
   "cell_type": "markdown",
   "metadata": {
    "deletable": false,
    "editable": false,
    "nbgrader": {
     "cell_type": "markdown",
     "checksum": "8d08c2f03388609e846ce25f551034a9",
     "grade": false,
     "grade_id": "cell-09e3795fb831520c",
     "locked": true,
     "schema_version": 3,
     "solution": false,
     "task": false
    }
   },
   "source": [
    "---\n",
    "## 5.7 Genauigkeit von Gleitkommazahlen im Binärsystem (12%)\n",
    "\n",
    "Geben Sie an welche der folgenden Zahlen ohne Verlust an Genauigkeit im IEEE 754 Format mit einfacher Genauigkeit im Binärsystem dargestellt werden können.\n",
    "<br/><br/>\n",
    "&nbsp; &nbsp; &nbsp;a.&nbsp; &nbsp; &nbsp; $0,1_{(10)}$<br/><br/>\n",
    "&nbsp; &nbsp; &nbsp;b.&nbsp; &nbsp; &nbsp; $0,5_{(10)}$<br/><br/>\n",
    "&nbsp; &nbsp; &nbsp;c.&nbsp; &nbsp; &nbsp; $0,625_{(10)}$<br/><br/>\n",
    "&nbsp; &nbsp; &nbsp;d.&nbsp; &nbsp; &nbsp; &nbsp;$(2^{24}+1)_{(10)}$<br/><br/>\n",
    "&nbsp; &nbsp; &nbsp;e.&nbsp; &nbsp; &nbsp; $(2^{24}+2)_{(10)}$<br/><br/>\n",
    "&nbsp; &nbsp; &nbsp;f.&nbsp; &nbsp; &nbsp; $0,0005_{(10)}$<br/><br/>\n",
    "&nbsp; &nbsp; &nbsp;g.&nbsp; &nbsp; &nbsp; $-0_{(10)}$<br/><br/>\n",
    "&nbsp; &nbsp; &nbsp;h.&nbsp; &nbsp; &nbsp; $(2^{142})_{(10)}$<br/><br/>\n",
    "&nbsp; &nbsp; &nbsp;i.&nbsp; &nbsp; &nbsp; $(666 * 2^{-6})_{(10)}$<br/><br/>\n",
    "&nbsp; &nbsp; &nbsp;j.&nbsp; &nbsp; &nbsp; $(\\frac{1}{3})_{(10)}$<br/><br/>"
   ]
  },
  {
   "cell_type": "code",
   "execution_count": null,
   "metadata": {
    "deletable": false,
    "editable": false,
    "hide_input": true,
    "nbgrader": {
     "cell_type": "code",
     "checksum": "e91d7c282cb4dc1dab67c432f3ad96bb",
     "grade": true,
     "grade_id": "cell-15f6ce09f52a6de5",
     "locked": true,
     "points": 0,
     "schema_version": 3,
     "solution": false,
     "task": false
    },
    "run_control": {
     "frozen": true
    }
   },
   "outputs": [],
   "source": [
    "# new test suite\n",
    "jagl.testsuite_begin(\"Exercise 6\")"
   ]
  },
  {
   "cell_type": "code",
   "execution_count": null,
   "metadata": {
    "nbgrader": {
     "cell_type": "code",
     "checksum": "47621e875332a72391a3df521611a15a",
     "grade": false,
     "grade_id": "cell-be0a1b1a4fe159fb",
     "locked": false,
     "schema_version": 3,
     "solution": true,
     "task": false
    }
   },
   "outputs": [],
   "source": [
    "# Beantworten Sie die Frage, indem Sie die KORREKTEN Antworten in die unten stehende Liste einfügen. \n",
    "# Sind Ihrer Meinung nach die Antworten 'a', 'c' und 'e' korrekt, so sollte das Ergebnis so aussehen:\n",
    "#\n",
    "#         exercise_5_6_result = [\"a\", \"c\", \"e\"]\n",
    "\n",
    "# Datentyp: list of strings\n",
    "exercise_5_7_result = [\"b\",\"c\",\"d\",\"i\"]\n",
    "\n",
    "# Weisen Sie der untenstehenden Variable den Wert True zu, sobald Sie die Aufgabe erfolgreich erledigt haben!\n",
    "\n",
    "# Datentyp: bool\n",
    "exercise_5_7_solved = False"
   ]
  },
  {
   "cell_type": "code",
   "execution_count": null,
   "metadata": {
    "deletable": false,
    "editable": false,
    "hide_input": true,
    "nbgrader": {
     "cell_type": "code",
     "checksum": "a39c072ccf266af7e3c0e71b9bd881c3",
     "grade": true,
     "grade_id": "cell-15ce04084b8cd7dd",
     "locked": true,
     "points": 12,
     "schema_version": 3,
     "solution": false,
     "task": false
    },
    "run_control": {
     "frozen": true
    }
   },
   "outputs": [],
   "source": [
    "@jagl.testcase(\"1\", desc=\"Exercise Solved\")\n",
    "def testcase_6_1(result, suite, case):\n",
    "    result.setSucceeded()\n",
    "    if \"exercise_5_6_solved\" in globals():\n",
    "        varname = \"exercise_5_6_solved\"\n",
    "        jagl.check_variable_exists_and_has_type(result, globals(), varname, bool)\n",
    "        jagl.check_variable_exists_and_has_type(result, globals(), \"exercise_5_6_result\", list)\n",
    "        if result.isSucceeded():\n",
    "            if eval(varname):\n",
    "                result.setSucceeded(\"Exercise solved.\")\n",
    "            else:\n",
    "                result.setFailed(\"Exercise not solved.\")\n",
    "    else:\n",
    "        varname = \"exercise_5_7_solved\"\n",
    "        jagl.check_variable_exists_and_has_type(result, globals(), varname, bool)\n",
    "        jagl.check_variable_exists_and_has_type(result, globals(), \"exercise_5_7_result\", list)\n",
    "        if result.isSucceeded():\n",
    "            if eval(varname):\n",
    "                result.setSucceeded(\"Exercise solved.\")\n",
    "            else:\n",
    "                result.setFailed(\"Exercise not solved.\")"
   ]
  },
  {
   "cell_type": "code",
   "execution_count": null,
   "metadata": {
    "deletable": false,
    "editable": false,
    "hide_input": true,
    "nbgrader": {
     "cell_type": "code",
     "checksum": "a917b82bcfc8ff1c0d7ae613ece1979f",
     "grade": true,
     "grade_id": "cell-b92ddbcebec34fa7",
     "locked": true,
     "points": 0,
     "schema_version": 3,
     "solution": false,
     "task": false
    },
    "run_control": {
     "frozen": true
    }
   },
   "outputs": [],
   "source": []
  },
  {
   "cell_type": "code",
   "execution_count": null,
   "metadata": {
    "deletable": false,
    "editable": false,
    "hide_input": true,
    "nbgrader": {
     "cell_type": "code",
     "checksum": "975865d9aad58a0d07f1c8966ac338b9",
     "grade": true,
     "grade_id": "cell-20bd533b9eaf2904",
     "locked": true,
     "points": 0,
     "schema_version": 3,
     "solution": false,
     "task": false
    },
    "run_control": {
     "frozen": true
    }
   },
   "outputs": [],
   "source": []
  },
  {
   "cell_type": "code",
   "execution_count": null,
   "metadata": {
    "deletable": false,
    "editable": false,
    "hide_input": true,
    "nbgrader": {
     "cell_type": "code",
     "checksum": "4f9c1bdcf2957069af7d4b26c8365d9b",
     "grade": true,
     "grade_id": "cell-30235779a5f80fff",
     "locked": true,
     "points": 0,
     "schema_version": 3,
     "solution": false,
     "task": false
    },
    "run_control": {
     "frozen": true
    }
   },
   "outputs": [],
   "source": []
  },
  {
   "cell_type": "code",
   "execution_count": null,
   "metadata": {
    "deletable": false,
    "editable": false,
    "hide_input": true,
    "nbgrader": {
     "cell_type": "code",
     "checksum": "3d411fb52ec2ee8232c06da02e416a47",
     "grade": true,
     "grade_id": "cell-0754658236523ec1",
     "locked": true,
     "points": 0,
     "schema_version": 3,
     "solution": false,
     "task": false
    },
    "run_control": {
     "frozen": true
    }
   },
   "outputs": [],
   "source": []
  }
 ],
 "metadata": {
  "kernelspec": {
   "display_name": "Python 3 (ipykernel)",
   "language": "python",
   "name": "python3"
  },
  "language_info": {
   "codemirror_mode": {
    "name": "ipython",
    "version": 3
   },
   "file_extension": ".py",
   "mimetype": "text/x-python",
   "name": "python",
   "nbconvert_exporter": "python",
   "pygments_lexer": "ipython3",
   "version": "3.9.6"
  }
 },
 "nbformat": 4,
 "nbformat_minor": 2
}
